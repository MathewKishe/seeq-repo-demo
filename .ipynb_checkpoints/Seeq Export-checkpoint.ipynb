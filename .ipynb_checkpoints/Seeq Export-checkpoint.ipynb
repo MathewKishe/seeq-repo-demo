{
 "cells": [
  {
   "cell_type": "code",
   "execution_count": 1,
   "id": "0df2ab32-f80b-41d1-bdd5-42191a6af4ca",
   "metadata": {},
   "outputs": [],
   "source": [
    "import json\n",
    "import os\n",
    "import pandas as pd\n",
    "import shutil\n",
    "from seeq import spy\n",
    "\n",
    "# Set the compatibility option so that you maximize the chance that SPy will remain compatible with your notebook/script\n",
    "spy.options.compatibility = 190"
   ]
  },
  {
   "cell_type": "markdown",
   "id": "dd4082ba-abad-4d3c-a6a7-86d59b2c6b1c",
   "metadata": {},
   "source": [
    "## Establish the Job Folder\n",
    "The parameter that defines a job is a job folder. It is the first argument for all job functions, and it is managed entirely by SPy. The folder is laid out in an intuitive way that allows you to inspect it, and, in some troubleshooting cases, make modifications yourself."
   ]
  },
  {
   "cell_type": "code",
   "execution_count": 2,
   "id": "2b98b767-9a44-4f41-b3ae-4212483bfa56",
   "metadata": {},
   "outputs": [],
   "source": [
    "\"\"\"\n",
    "Job Folder\n",
    "\n",
    "Naming Convention\n",
    "Job Folder should include a control number: Change Control + Name of the Seeq Component\n",
    "\"\"\"\n",
    "job_folder = './Example Export'\n",
    "\n",
    "# Remove the job folder so that old file/artifacts don't affect the tutorial\n",
    "if os.path.exists(job_folder):\n",
    "    shutil.rmtree(job_folder)"
   ]
  },
  {
   "cell_type": "markdown",
   "id": "4625b153-4eb1-44ea-8e83-ffe000cc949e",
   "metadata": {},
   "source": [
    "Exporting\n",
    "---------------------\n",
    "We will **search** for the workbooks we want to export. The syntax for a workbook search query is very similar to an item metadata search via ``spy.search()``:\n",
    "\n",
    "```python\n",
    "    workbooks_df = spy.workbooks.search({\n",
    "        'Path': 'My Project >> My Import'\n",
    "    })\n",
    "    \n",
    "    workbooks_df\n",
    "```\n",
    "\n",
    "As you can see, the ``spy.workbooks.search()`` command returns a metadata DataFrame with the properties of the workbooks. We can now use that to **pull**:\n",
    "\n",
    "```python\n",
    "    workbooks = spy.workbooks.pull(workbooks_df)\n",
    "    workbooks\n",
    "```\n",
    "\n",
    "\n",
    "To export and save them to a certain location, use the esablished job folder or you can create a new one as a described below. These are the same type of in-memory Python objects that we had when we executed ``spy.workbooks.load()``. Now we can **save** them to disk:\n",
    "\n",
    "```python\n",
    "    if os.path.exists('../Exports'):\n",
    "        shutil.rmtree('../Exports')\n",
    "        \n",
    "    spy.workbooks.save(workbooks, '../Exports')\n",
    "```\n",
    "In the parent folder of this documentation notebook, you’ll find a new *Exports * folder that contains similar files to the *Example Export* folder that’s part of the documentation.\n",
    "\n",
    "#### Extra Notes\n",
    "Start the job cycle by issuing the `spy.workbooks.job.pull()` to grab a set of workbooks and write them to disk.\n",
    "\n",
    "As with `spy.workbooks.pull()`, we create a DataFrame full of workbooks to pull by using the `spy.workbooks.search()` function. Then we can supply that DataFrame to `spy.workbooks.job.pull()`, which takes many of the same parameters as `spy.workbooks.pull()`."
   ]
  },
  {
   "cell_type": "code",
   "execution_count": 3,
   "id": "a0ebc964-55b4-40d3-99f8-638fb0b2ae00",
   "metadata": {},
   "outputs": [
    {
     "data": {
      "text/html": [
       "<div style=\"background-color: #EEFFEE;color:black; text-align: left;\">Query successful.</div><table class=\"tex2jax_ignore\" style=\"color:black;\"><tr><td style=\"background-color: #EEFFEE;\"></td><td style=\"background-color: #EEFFEE; text-align: left;\">Count</td><td style=\"background-color: #EEFFEE; text-align: right;\">Time</td></tr><tr style=\"background-color: #EEFFEE;\"><td style=\"vertical-align: top;\">Results</td><td style=\"text-align: right; vertical-align: top;\">2</td><td style=\"vertical-align: top;\">00:00:00.06</td></tr></table>"
      ],
      "text/plain": [
       "<IPython.core.display.HTML object>"
      ]
     },
     "metadata": {},
     "output_type": "display_data"
    },
    {
     "data": {
      "text/html": [
       "<div>\n",
       "<style scoped>\n",
       "    .dataframe tbody tr th:only-of-type {\n",
       "        vertical-align: middle;\n",
       "    }\n",
       "\n",
       "    .dataframe tbody tr th {\n",
       "        vertical-align: top;\n",
       "    }\n",
       "\n",
       "    .dataframe thead th {\n",
       "        text-align: right;\n",
       "    }\n",
       "</style>\n",
       "<table border=\"1\" class=\"dataframe\">\n",
       "  <thead>\n",
       "    <tr style=\"text-align: right;\">\n",
       "      <th></th>\n",
       "      <th>Archived</th>\n",
       "      <th>Created At</th>\n",
       "      <th>ID</th>\n",
       "      <th>Name</th>\n",
       "      <th>Path</th>\n",
       "      <th>Pinned</th>\n",
       "      <th>Search Folder ID</th>\n",
       "      <th>Type</th>\n",
       "      <th>Updated At</th>\n",
       "      <th>Workbook Type</th>\n",
       "    </tr>\n",
       "  </thead>\n",
       "  <tbody>\n",
       "    <tr>\n",
       "      <th>0</th>\n",
       "      <td>NaN</td>\n",
       "      <td>2023-12-28 13:57:27.878930169+00:00</td>\n",
       "      <td>0EEA5890-9373-6660-BFA7-9F000D56AC27</td>\n",
       "      <td>Example Analysis</td>\n",
       "      <td>GMP &gt;&gt; My Example &gt;&gt; In-Development</td>\n",
       "      <td>NaN</td>\n",
       "      <td>0EEA5890-92FB-EC50-B50C-ED9180400A5A</td>\n",
       "      <td>Workbook</td>\n",
       "      <td>2023-12-28 14:45:58.085520898+00:00</td>\n",
       "      <td>Analysis</td>\n",
       "    </tr>\n",
       "    <tr>\n",
       "      <th>1</th>\n",
       "      <td>NaN</td>\n",
       "      <td>2023-12-28 13:57:30.019272226+00:00</td>\n",
       "      <td>0EEA5890-A7DC-6020-A186-336A585F6F02</td>\n",
       "      <td>Example Topic</td>\n",
       "      <td>GMP &gt;&gt; My Example &gt;&gt; In-Development</td>\n",
       "      <td>NaN</td>\n",
       "      <td>0EEA5890-92FB-EC50-B50C-ED9180400A5A</td>\n",
       "      <td>Workbook</td>\n",
       "      <td>2023-12-28 13:57:30.486212244+00:00</td>\n",
       "      <td>Topic</td>\n",
       "    </tr>\n",
       "  </tbody>\n",
       "</table>\n",
       "</div>"
      ],
      "text/plain": [
       "   Archived                          Created At  \\\n",
       "0       NaN 2023-12-28 13:57:27.878930169+00:00   \n",
       "1       NaN 2023-12-28 13:57:30.019272226+00:00   \n",
       "\n",
       "                                     ID              Name  \\\n",
       "0  0EEA5890-9373-6660-BFA7-9F000D56AC27  Example Analysis   \n",
       "1  0EEA5890-A7DC-6020-A186-336A585F6F02     Example Topic   \n",
       "\n",
       "                                  Path  Pinned  \\\n",
       "0  GMP >> My Example >> In-Development     NaN   \n",
       "1  GMP >> My Example >> In-Development     NaN   \n",
       "\n",
       "                       Search Folder ID      Type  \\\n",
       "0  0EEA5890-92FB-EC50-B50C-ED9180400A5A  Workbook   \n",
       "1  0EEA5890-92FB-EC50-B50C-ED9180400A5A  Workbook   \n",
       "\n",
       "                           Updated At Workbook Type  \n",
       "0 2023-12-28 14:45:58.085520898+00:00      Analysis  \n",
       "1 2023-12-28 13:57:30.486212244+00:00         Topic  "
      ]
     },
     "execution_count": 3,
     "metadata": {},
     "output_type": "execute_result"
    }
   ],
   "source": [
    "# Pull the in development \n",
    "workbooks_df = spy.workbooks.search({\n",
    "    'Path': 'GMP >> My Example >> In-Development'\n",
    "})\n",
    "\n",
    "# Store these in variables that we'll use later\n",
    "example_analysis_workbook_id = workbooks_df[workbooks_df['Name'] == 'Example Analysis'].iloc[0]['ID']\n",
    "example_topic_workbook_id = workbooks_df[workbooks_df['Name'] == 'Example Topic'].iloc[0]['ID']\n",
    "\n",
    "workbooks_df"
   ]
  },
  {
   "cell_type": "code",
   "execution_count": 4,
   "id": "317b5869-b03e-4dfe-9275-99ffbade4db9",
   "metadata": {},
   "outputs": [
    {
     "data": {
      "text/html": [
       "<div style=\"background-color: #EEFFEE;color:black; text-align: left;\">Pull successful</div><table class=\"tex2jax_ignore\" style=\"color:black;\"><tr><td style=\"background-color: #EEFFEE;\"></td><td style=\"background-color: #EEFFEE; text-align: left;\">ID</td><td style=\"background-color: #EEFFEE; text-align: left;\">Path</td><td style=\"background-color: #EEFFEE; text-align: left;\">Name</td><td style=\"background-color: #EEFFEE; text-align: left;\">Workbook Type</td><td style=\"background-color: #EEFFEE; text-align: right;\">Count</td><td style=\"background-color: #EEFFEE; text-align: left;\">Time</td><td style=\"background-color: #EEFFEE; text-align: right;\">Errors</td><td style=\"background-color: #EEFFEE; text-align: left;\">Result</td></tr><tr style=\"background-color: #EEFFEE;\"><td style=\"vertical-align: top;\">0</td><td style=\"text-align: left; vertical-align: top;\">0EEA5890-9373-6660-BFA7-9F000D56AC27</td><td style=\"text-align: left; vertical-align: top;\">GMP >> My Example >> In-Development</td><td style=\"text-align: left; vertical-align: top;\">Example Analysis</td><td style=\"text-align: left; vertical-align: top;\">Analysis</td><td style=\"text-align: right; vertical-align: top;\">58</td><td style=\"vertical-align: top;\">00:00:01.12</td><td style=\"text-align: right; vertical-align: top;\">0</td><td style=\"text-align: left; vertical-align: top;\">Success</td></tr><tr style=\"background-color: #EEFFEE;\"><td style=\"vertical-align: top;\">1</td><td style=\"text-align: left; vertical-align: top;\">0EEA5890-A7DC-6020-A186-336A585F6F02</td><td style=\"text-align: left; vertical-align: top;\">GMP >> My Example >> In-Development</td><td style=\"text-align: left; vertical-align: top;\">Example Topic</td><td style=\"text-align: left; vertical-align: top;\">Topic</td><td style=\"text-align: right; vertical-align: top;\">10</td><td style=\"vertical-align: top;\">00:00:00.31</td><td style=\"text-align: right; vertical-align: top;\">0</td><td style=\"text-align: left; vertical-align: top;\">Success</td></tr></table>"
      ],
      "text/plain": [
       "<IPython.core.display.HTML object>"
      ]
     },
     "metadata": {},
     "output_type": "display_data"
    },
    {
     "data": {
      "text/plain": [
       "[Workbook \"My Folder >> GMP >> My Example >> In-Development >> Example Topic\" (0EEA5890-A7DC-6020-A186-336A585F6F02),\n",
       " Workbook \"My Folder >> GMP >> My Example >> In-Development >> Example Analysis\" (0EEA5890-9373-6660-BFA7-9F000D56AC27)]"
      ]
     },
     "execution_count": 4,
     "metadata": {},
     "output_type": "execute_result"
    }
   ],
   "source": [
    "# command returns a metadata DataFrame with the properties of the workbooks. \n",
    "workbooks = spy.workbooks.pull(workbooks_df)\n",
    "workbooks"
   ]
  },
  {
   "cell_type": "code",
   "execution_count": 5,
   "id": "c25a7951-68c5-455a-b41d-616f005cb1a6",
   "metadata": {},
   "outputs": [
    {
     "data": {
      "text/html": [
       "<div style=\"background-color: #EEFFEE;color:black; text-align: left;\">Pull successful</div><table class=\"tex2jax_ignore\" style=\"color:black;\"><tr><td style=\"background-color: #EEFFEE;\"></td><td style=\"background-color: #EEFFEE; text-align: left;\">ID</td><td style=\"background-color: #EEFFEE; text-align: left;\">Path</td><td style=\"background-color: #EEFFEE; text-align: left;\">Name</td><td style=\"background-color: #EEFFEE; text-align: left;\">Workbook Type</td><td style=\"background-color: #EEFFEE; text-align: right;\">Count</td><td style=\"background-color: #EEFFEE; text-align: left;\">Time</td><td style=\"background-color: #EEFFEE; text-align: right;\">Errors</td><td style=\"background-color: #EEFFEE; text-align: left;\">Result</td></tr><tr style=\"background-color: #EEFFEE;\"><td style=\"vertical-align: top;\">0</td><td style=\"text-align: left; vertical-align: top;\">0EEA5890-9373-6660-BFA7-9F000D56AC27</td><td style=\"text-align: left; vertical-align: top;\">GMP >> My Example >> In-Development</td><td style=\"text-align: left; vertical-align: top;\">Example Analysis</td><td style=\"text-align: left; vertical-align: top;\">Analysis</td><td style=\"text-align: right; vertical-align: top;\">55</td><td style=\"vertical-align: top;\">00:00:01.35</td><td style=\"text-align: right; vertical-align: top;\">0</td><td style=\"text-align: left; vertical-align: top;\">Success</td></tr><tr style=\"background-color: #EEFFEE;\"><td style=\"vertical-align: top;\">1</td><td style=\"text-align: left; vertical-align: top;\">0EEA5890-A7DC-6020-A186-336A585F6F02</td><td style=\"text-align: left; vertical-align: top;\">GMP >> My Example >> In-Development</td><td style=\"text-align: left; vertical-align: top;\">Example Topic</td><td style=\"text-align: left; vertical-align: top;\">Topic</td><td style=\"text-align: right; vertical-align: top;\">10</td><td style=\"vertical-align: top;\">00:00:00.38</td><td style=\"text-align: right; vertical-align: top;\">0</td><td style=\"text-align: left; vertical-align: top;\">Success</td></tr></table>"
      ],
      "text/plain": [
       "<IPython.core.display.HTML object>"
      ]
     },
     "metadata": {},
     "output_type": "display_data"
    },
    {
     "data": {
      "text/html": [
       "<div>\n",
       "<style scoped>\n",
       "    .dataframe tbody tr th:only-of-type {\n",
       "        vertical-align: middle;\n",
       "    }\n",
       "\n",
       "    .dataframe tbody tr th {\n",
       "        vertical-align: top;\n",
       "    }\n",
       "\n",
       "    .dataframe thead th {\n",
       "        text-align: right;\n",
       "    }\n",
       "</style>\n",
       "<table border=\"1\" class=\"dataframe\">\n",
       "  <thead>\n",
       "    <tr style=\"text-align: right;\">\n",
       "      <th></th>\n",
       "      <th>ID</th>\n",
       "      <th>Path</th>\n",
       "      <th>Name</th>\n",
       "      <th>Workbook Type</th>\n",
       "      <th>Count</th>\n",
       "      <th>Time</th>\n",
       "      <th>Errors</th>\n",
       "      <th>Result</th>\n",
       "    </tr>\n",
       "  </thead>\n",
       "  <tbody>\n",
       "    <tr>\n",
       "      <th>0</th>\n",
       "      <td>0EEA5890-9373-6660-BFA7-9F000D56AC27</td>\n",
       "      <td>GMP &gt;&gt; My Example &gt;&gt; In-Development</td>\n",
       "      <td>Example Analysis</td>\n",
       "      <td>Analysis</td>\n",
       "      <td>55</td>\n",
       "      <td>0:00:01.352891</td>\n",
       "      <td>0</td>\n",
       "      <td>Success</td>\n",
       "    </tr>\n",
       "    <tr>\n",
       "      <th>1</th>\n",
       "      <td>0EEA5890-A7DC-6020-A186-336A585F6F02</td>\n",
       "      <td>GMP &gt;&gt; My Example &gt;&gt; In-Development</td>\n",
       "      <td>Example Topic</td>\n",
       "      <td>Topic</td>\n",
       "      <td>10</td>\n",
       "      <td>0:00:00.384830</td>\n",
       "      <td>0</td>\n",
       "      <td>Success</td>\n",
       "    </tr>\n",
       "  </tbody>\n",
       "</table>\n",
       "</div>"
      ],
      "text/plain": [
       "                                     ID                                 Path  \\\n",
       "0  0EEA5890-9373-6660-BFA7-9F000D56AC27  GMP >> My Example >> In-Development   \n",
       "1  0EEA5890-A7DC-6020-A186-336A585F6F02  GMP >> My Example >> In-Development   \n",
       "\n",
       "               Name Workbook Type  Count            Time  Errors   Result  \n",
       "0  Example Analysis      Analysis     55  0:00:01.352891       0  Success  \n",
       "1     Example Topic         Topic     10  0:00:00.384830       0  Success  "
      ]
     },
     "execution_count": 5,
     "metadata": {},
     "output_type": "execute_result"
    }
   ],
   "source": [
    "# To grab a set of workbooks and write them to disk.\n",
    "spy.workbooks.job.pull(job_folder, workbooks_df, resume=False)"
   ]
  },
  {
   "cell_type": "markdown",
   "id": "0d1070bc-3337-4a33-b0bb-c0b7dcae9c33",
   "metadata": {},
   "source": [
    "Inspecting Worksheets\n",
    "---------------------\n",
    "\n",
    "With the in-memory Python objects that result from ``spy.workbooks.pull()`` or ``spy.workbooks.load()``, you can inspect the worksheets to see what is displayed on them. For example, let’s look at what’s in the Details Pane of the second worksheet of *Example Analysis*:\n",
    "```python\n",
    "    worksheet_items = [w for w in workbooks if w.name == 'Example Analysis' [0].worksheets[1].display_items\n",
    "    worksheet_items\n",
    "```\n",
    "Now you can call ``spy.pull()`` to pull data for the items in the worksheet.\n",
    "\n",
    "```python\n",
    "    spy.pull(worksheet_items, start='2019-01-01T00:00:00', end='2019-01-02T00:00:00')\n",
    "```\n",
    "Note that if you just wanted the full metadata for the items, you could execute ``spy.search(worksheet_items[['ID']])``."
   ]
  },
  {
   "cell_type": "code",
   "execution_count": 6,
   "id": "59482d8d-57aa-4e36-a4dd-7adbc6f0e17d",
   "metadata": {},
   "outputs": [
    {
     "data": {
      "text/html": [
       "<div>\n",
       "<style scoped>\n",
       "    .dataframe tbody tr th:only-of-type {\n",
       "        vertical-align: middle;\n",
       "    }\n",
       "\n",
       "    .dataframe tbody tr th {\n",
       "        vertical-align: top;\n",
       "    }\n",
       "\n",
       "    .dataframe thead th {\n",
       "        text-align: right;\n",
       "    }\n",
       "</style>\n",
       "<table border=\"1\" class=\"dataframe\">\n",
       "  <thead>\n",
       "    <tr style=\"text-align: right;\">\n",
       "      <th></th>\n",
       "      <th>Name</th>\n",
       "      <th>ID</th>\n",
       "      <th>Type</th>\n",
       "      <th>Color</th>\n",
       "      <th>Line Style</th>\n",
       "      <th>Line Width</th>\n",
       "      <th>Lane</th>\n",
       "      <th>Samples Display</th>\n",
       "      <th>Axis Auto Scale</th>\n",
       "      <th>Axis Align</th>\n",
       "      <th>Axis Group</th>\n",
       "      <th>Axis Show</th>\n",
       "      <th>Selected</th>\n",
       "    </tr>\n",
       "  </thead>\n",
       "  <tbody>\n",
       "    <tr>\n",
       "      <th>0</th>\n",
       "      <td>Area A_Temperature</td>\n",
       "      <td>11FBE5CB-C255-483F-B886-C42ADCD82A32</td>\n",
       "      <td>Signal</td>\n",
       "      <td>#E1498E</td>\n",
       "      <td>Solid</td>\n",
       "      <td>1.0</td>\n",
       "      <td>1.0</td>\n",
       "      <td>Line</td>\n",
       "      <td>True</td>\n",
       "      <td>Left</td>\n",
       "      <td>A</td>\n",
       "      <td>True</td>\n",
       "      <td>False</td>\n",
       "    </tr>\n",
       "    <tr>\n",
       "      <th>1</th>\n",
       "      <td>Area A_Optimizer</td>\n",
       "      <td>BB5D2A62-3926-4867-B343-0D814B215AE9</td>\n",
       "      <td>Signal</td>\n",
       "      <td>#4055A3</td>\n",
       "      <td>Solid</td>\n",
       "      <td>1.0</td>\n",
       "      <td>2.0</td>\n",
       "      <td>Line</td>\n",
       "      <td>True</td>\n",
       "      <td>Left</td>\n",
       "      <td>B</td>\n",
       "      <td>True</td>\n",
       "      <td>False</td>\n",
       "    </tr>\n",
       "    <tr>\n",
       "      <th>2</th>\n",
       "      <td>Area A_Compressor Stage</td>\n",
       "      <td>283A0DF9-41B1-4286-B920-C89AFDC9D5C9</td>\n",
       "      <td>Signal</td>\n",
       "      <td>#068C45</td>\n",
       "      <td>Solid</td>\n",
       "      <td>1.0</td>\n",
       "      <td>3.0</td>\n",
       "      <td>Line</td>\n",
       "      <td>True</td>\n",
       "      <td>Left</td>\n",
       "      <td>C</td>\n",
       "      <td>True</td>\n",
       "      <td>False</td>\n",
       "    </tr>\n",
       "  </tbody>\n",
       "</table>\n",
       "</div>"
      ],
      "text/plain": [
       "                      Name                                    ID    Type  \\\n",
       "0       Area A_Temperature  11FBE5CB-C255-483F-B886-C42ADCD82A32  Signal   \n",
       "1         Area A_Optimizer  BB5D2A62-3926-4867-B343-0D814B215AE9  Signal   \n",
       "2  Area A_Compressor Stage  283A0DF9-41B1-4286-B920-C89AFDC9D5C9  Signal   \n",
       "\n",
       "     Color Line Style Line Width Lane Samples Display Axis Auto Scale  \\\n",
       "0  #E1498E      Solid        1.0  1.0            Line            True   \n",
       "1  #4055A3      Solid        1.0  2.0            Line            True   \n",
       "2  #068C45      Solid        1.0  3.0            Line            True   \n",
       "\n",
       "  Axis Align Axis Group Axis Show Selected  \n",
       "0       Left          A      True    False  \n",
       "1       Left          B      True    False  \n",
       "2       Left          C      True    False  "
      ]
     },
     "execution_count": 6,
     "metadata": {},
     "output_type": "execute_result"
    }
   ],
   "source": [
    "# you can inspect the worksheets to see what is displayed on them\n",
    "worksheet_items = [w for w in workbooks if w.name == 'Example Analysis'][0].worksheets[0].display_items\n",
    "worksheet_items"
   ]
  },
  {
   "cell_type": "markdown",
   "id": "b1d5ce14-1569-4be5-b565-9bc39f0de872",
   "metadata": {},
   "source": [
    "Zip/Unzip the Job Folder\n",
    "------------------------\n",
    "\n",
    "If you are intending to transfer workbook information to another Seeq server or Git, it is convenient to package up the job folder as a zip file.\n",
    "There are two functions for this purpose:\n",
    "\n",
    "```python\n",
    "spy.workbooks.job.zip(job_folder, overwrite=True)\n",
    "```\n",
    "```python\n",
    "spy.workbooks.job.unzip(job_folder + '.zip', overwrite=True)\n",
    "```"
   ]
  },
  {
   "cell_type": "code",
   "execution_count": 7,
   "id": "6751555c-1081-4d11-b9e4-5cadd6d90b8b",
   "metadata": {},
   "outputs": [
    {
     "data": {
      "text/html": [
       "<div style=\"background-color: #EEFFEE;color:black; text-align: left;\">Success: Zip file written to \"/home/datalab/seeq-repo-demo/Sesto/Example Export.zip\"</div>"
      ],
      "text/plain": [
       "<IPython.core.display.HTML object>"
      ]
     },
     "metadata": {},
     "output_type": "display_data"
    }
   ],
   "source": [
    "spy.workbooks.job.zip(job_folder, overwrite=True)"
   ]
  }
 ],
 "metadata": {
  "kernelspec": {
   "display_name": "Python 3 (ipykernel)",
   "language": "python",
   "name": "python3"
  },
  "language_info": {
   "codemirror_mode": {
    "name": "ipython",
    "version": 3
   },
   "file_extension": ".py",
   "mimetype": "text/x-python",
   "name": "python",
   "nbconvert_exporter": "python",
   "pygments_lexer": "ipython3",
   "version": "3.8.18"
  }
 },
 "nbformat": 4,
 "nbformat_minor": 5
}
