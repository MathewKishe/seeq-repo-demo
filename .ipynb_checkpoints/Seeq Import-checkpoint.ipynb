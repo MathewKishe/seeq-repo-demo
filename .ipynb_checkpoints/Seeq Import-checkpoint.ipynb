{
 "cells": [
  {
   "cell_type": "code",
   "execution_count": 1,
   "id": "ff14af02-b336-4db0-9824-0abbdda13ba4",
   "metadata": {},
   "outputs": [],
   "source": [
    "import json\n",
    "import os\n",
    "import pandas as pd\n",
    "import shutil\n",
    "from seeq import spy\n",
    "\n",
    "# Set the compatibility option so that you maximize the chance that SPy will remain compatible with your notebook/script\n",
    "spy.options.compatibility = 190"
   ]
  },
  {
   "cell_type": "markdown",
   "id": "ca3ba6b5-4ff5-4266-b3e2-e0373dcdcad2",
   "metadata": {},
   "source": [
    "## Create a change log"
   ]
  },
  {
   "cell_type": "code",
   "execution_count": 2,
   "id": "9e7713d5-11f9-452c-bc85-e00a835be8ee",
   "metadata": {},
   "outputs": [
    {
     "name": "stdout",
     "output_type": "stream",
     "text": [
      "Changelog.md generated successfully!\n"
     ]
    }
   ],
   "source": [
    "\"\"\"\n",
    "Change Log Information\n",
    "Store a description of the control driving this change\n",
    "\"\"\"\n",
    "\n",
    "changelog_content = \"\"\"\n",
    "# Changelog\n",
    "\n",
    "## [CHG123456]\n",
    "- The purpose of this change is to source code management in Seeq using Seeq Datalab\n",
    "\n",
    "\"\"\"\n",
    "\n",
    "# Write content to changelog.md file\n",
    "with open('changelog.md', 'w') as changelog_file:\n",
    "    changelog_file.write(changelog_content)\n",
    "\n",
    "print(\"Changelog.md generated successfully!\")"
   ]
  },
  {
   "cell_type": "markdown",
   "id": "913be275-6b5e-48c1-8a5f-3330fbc2a179",
   "metadata": {},
   "source": [
    "## Importing\n",
    "\n",
    "This set of documentation comes with an *Example Export* folder that contains an Analysis and a Topic for illustration purposes. First we **load** it into memory:\n",
    "```python\n",
    "    path = 'Enter Seeq Datalab path'\n",
    "    workbooks = spy.workbooks.load(path)\n",
    "    workbooks\n",
    "```\n",
    "Now that the workbook definitions are in memory, we can push them into Seeq.\n",
    "The workbook path would be the path for the storage location of the GMP Path\n",
    "```python\n",
    "    spy.workbooks.push(workbooks, path='Enter workbook Path', refresh=False, errors='raise')\n",
    "```\n",
    "The workbooks have been imported into Seeq in a *GMP* folder with you as the owner. Refresh Seeq Workbench in your browser and take a look.\n"
   ]
  },
  {
   "cell_type": "code",
   "execution_count": 3,
   "id": "be0ced88-d879-4e66-a5bc-347c532ed45f",
   "metadata": {},
   "outputs": [
    {
     "data": {
      "text/html": [
       "<div style=\"background-color: #EEFFEE;color:black; text-align: left;\">Success</div>"
      ],
      "text/plain": [
       "<IPython.core.display.HTML object>"
      ]
     },
     "metadata": {},
     "output_type": "display_data"
    },
    {
     "data": {
      "text/plain": [
       "[Workbook \"Shared >> Example Export >> Example Topic\" (811B1488-297A-4FD2-AE7C-A1FE0E3B3641),\n",
       " Workbook \"Shared >> Example Export >> Example Analysis\" (D833DC83-9A38-48DE-BF45-EB787E9E8375)]"
      ]
     },
     "execution_count": 3,
     "metadata": {},
     "output_type": "execute_result"
    }
   ],
   "source": [
    "# Path of where Zip files for import is located in seeq datalab\n",
    "path = '/home/datalab/seeq-repo-demo/Sesto/Example Export.zip'\n",
    "# Load the seeq component into memory\n",
    "workbooks = spy.workbooks.load(path)\n",
    "# Print out seeq component loaded in memory\n",
    "workbooks\n"
   ]
  },
  {
   "cell_type": "code",
   "execution_count": 4,
   "id": "3c9450ef-7457-49e4-a460-d86dd7c0c796",
   "metadata": {},
   "outputs": [
    {
     "data": {
      "text/html": [
       "<div style=\"background-color: #EEFFEE;color:black; text-align: left;\">Push successful</div><table class=\"tex2jax_ignore\" style=\"color:black;\"><tr><td style=\"background-color: #EEFFEE;\"></td><td style=\"background-color: #EEFFEE; text-align: left;\">ID</td><td style=\"background-color: #EEFFEE; text-align: left;\">Name</td><td style=\"background-color: #EEFFEE; text-align: left;\">Type</td><td style=\"background-color: #EEFFEE; text-align: left;\">Workbook Type</td><td style=\"background-color: #EEFFEE; text-align: left;\">Count</td><td style=\"background-color: #EEFFEE; text-align: left;\">Time</td><td style=\"background-color: #EEFFEE; text-align: left;\">Errors</td><td style=\"background-color: #EEFFEE; text-align: left;\">Result</td><td style=\"background-color: #EEFFEE; text-align: left;\">Pushed Workbook ID</td><td style=\"background-color: #EEFFEE; text-align: left;\">URL</td></tr><tr style=\"background-color: #EEFFEE;\"><td style=\"vertical-align: top;\">0</td><td style=\"text-align: left; vertical-align: top;\">D833DC83-9A38-48DE-BF45-EB787E9E8375</td><td style=\"text-align: left; vertical-align: top;\">Example Analysis</td><td style=\"text-align: left; vertical-align: top;\">Workbook</td><td style=\"text-align: left; vertical-align: top;\">Analysis</td><td style=\"text-align: right; vertical-align: top;\">53</td><td style=\"vertical-align: top;\">00:00:02.14</td><td style=\"text-align: right; vertical-align: top;\">0</td><td style=\"text-align: left; vertical-align: top;\">Success</td><td style=\"text-align: left; vertical-align: top;\">0EEA5890-9373-6660-BFA7-9F000D56AC27</td><td style=\"text-align: left; vertical-align: top;\"><a target=\"_blank\" href=\"https://lilly.seeq.site/0EEA5890-92FB-EC50-B50C-ED9180400A5A/workbook/0EEA5890-9373-6660-BFA7-9F000D56AC27/worksheet/0EEA5890-9BDF-6290-BC76-0055C5CF7C9B\">link</a></td></tr><tr style=\"background-color: #EEFFEE;\"><td style=\"vertical-align: top;\">1</td><td style=\"text-align: left; vertical-align: top;\">811B1488-297A-4FD2-AE7C-A1FE0E3B3641</td><td style=\"text-align: left; vertical-align: top;\">Example Topic</td><td style=\"text-align: left; vertical-align: top;\">Workbook</td><td style=\"text-align: left; vertical-align: top;\">Topic</td><td style=\"text-align: right; vertical-align: top;\">5</td><td style=\"vertical-align: top;\">00:00:00.43</td><td style=\"text-align: right; vertical-align: top;\">0</td><td style=\"text-align: left; vertical-align: top;\">Success</td><td style=\"text-align: left; vertical-align: top;\">0EEA5890-A7DC-6020-A186-336A585F6F02</td><td style=\"text-align: left; vertical-align: top;\"><a target=\"_blank\" href=\"https://lilly.seeq.site/0EEA5890-92FB-EC50-B50C-ED9180400A5A/workbook/0EEA5890-A7DC-6020-A186-336A585F6F02/worksheet/0EEA5890-A893-71D0-9B88-5183CF71289B\">link</a></td></tr></table>"
      ],
      "text/plain": [
       "<IPython.core.display.HTML object>"
      ]
     },
     "metadata": {},
     "output_type": "display_data"
    },
    {
     "data": {
      "text/html": [
       "<div>\n",
       "<style scoped>\n",
       "    .dataframe tbody tr th:only-of-type {\n",
       "        vertical-align: middle;\n",
       "    }\n",
       "\n",
       "    .dataframe tbody tr th {\n",
       "        vertical-align: top;\n",
       "    }\n",
       "\n",
       "    .dataframe thead th {\n",
       "        text-align: right;\n",
       "    }\n",
       "</style>\n",
       "<table border=\"1\" class=\"dataframe\">\n",
       "  <thead>\n",
       "    <tr style=\"text-align: right;\">\n",
       "      <th></th>\n",
       "      <th>ID</th>\n",
       "      <th>Name</th>\n",
       "      <th>Type</th>\n",
       "      <th>Workbook Type</th>\n",
       "      <th>Count</th>\n",
       "      <th>Time</th>\n",
       "      <th>Errors</th>\n",
       "      <th>Result</th>\n",
       "      <th>Pushed Workbook ID</th>\n",
       "      <th>URL</th>\n",
       "    </tr>\n",
       "  </thead>\n",
       "  <tbody>\n",
       "    <tr>\n",
       "      <th>0</th>\n",
       "      <td>D833DC83-9A38-48DE-BF45-EB787E9E8375</td>\n",
       "      <td>Example Analysis</td>\n",
       "      <td>Workbook</td>\n",
       "      <td>Analysis</td>\n",
       "      <td>53</td>\n",
       "      <td>0:00:02.140654</td>\n",
       "      <td>0</td>\n",
       "      <td>Success</td>\n",
       "      <td>0EEA5890-9373-6660-BFA7-9F000D56AC27</td>\n",
       "      <td>https://lilly.seeq.site/0EEA5890-92FB-EC50-B50...</td>\n",
       "    </tr>\n",
       "    <tr>\n",
       "      <th>1</th>\n",
       "      <td>811B1488-297A-4FD2-AE7C-A1FE0E3B3641</td>\n",
       "      <td>Example Topic</td>\n",
       "      <td>Workbook</td>\n",
       "      <td>Topic</td>\n",
       "      <td>5</td>\n",
       "      <td>0:00:00.432493</td>\n",
       "      <td>0</td>\n",
       "      <td>Success</td>\n",
       "      <td>0EEA5890-A7DC-6020-A186-336A585F6F02</td>\n",
       "      <td>https://lilly.seeq.site/0EEA5890-92FB-EC50-B50...</td>\n",
       "    </tr>\n",
       "  </tbody>\n",
       "</table>\n",
       "</div>"
      ],
      "text/plain": [
       "                                     ID              Name      Type  \\\n",
       "0  D833DC83-9A38-48DE-BF45-EB787E9E8375  Example Analysis  Workbook   \n",
       "1  811B1488-297A-4FD2-AE7C-A1FE0E3B3641     Example Topic  Workbook   \n",
       "\n",
       "  Workbook Type Count            Time Errors   Result  \\\n",
       "0      Analysis    53  0:00:02.140654      0  Success   \n",
       "1         Topic     5  0:00:00.432493      0  Success   \n",
       "\n",
       "                     Pushed Workbook ID  \\\n",
       "0  0EEA5890-9373-6660-BFA7-9F000D56AC27   \n",
       "1  0EEA5890-A7DC-6020-A186-336A585F6F02   \n",
       "\n",
       "                                                 URL  \n",
       "0  https://lilly.seeq.site/0EEA5890-92FB-EC50-B50...  \n",
       "1  https://lilly.seeq.site/0EEA5890-92FB-EC50-B50...  "
      ]
     },
     "execution_count": 4,
     "metadata": {},
     "output_type": "execute_result"
    }
   ],
   "source": [
    "spy.workbooks.push(workbooks, path='GMP >> My Example >> In-Development', refresh=False, errors='raise', label='In-development')"
   ]
  }
 ],
 "metadata": {
  "kernelspec": {
   "display_name": "Python 3 (ipykernel)",
   "language": "python",
   "name": "python3"
  },
  "language_info": {
   "codemirror_mode": {
    "name": "ipython",
    "version": 3
   },
   "file_extension": ".py",
   "mimetype": "text/x-python",
   "name": "python",
   "nbconvert_exporter": "python",
   "pygments_lexer": "ipython3",
   "version": "3.8.18"
  }
 },
 "nbformat": 4,
 "nbformat_minor": 5
}
